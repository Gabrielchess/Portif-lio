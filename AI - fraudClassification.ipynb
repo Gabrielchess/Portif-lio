{
 "cells": [
  {
   "cell_type": "code",
   "execution_count": 1,
   "id": "3e7ab46c",
   "metadata": {},
   "outputs": [],
   "source": [
    "import pandas as pd\n",
    "import sqlite3\n",
    "import warnings\n",
    "\n",
    "warnings.filterwarnings('ignore')"
   ]
  },
  {
   "cell_type": "code",
   "execution_count": 2,
   "id": "2856204b",
   "metadata": {},
   "outputs": [
    {
     "name": "stdout",
     "output_type": "stream",
     "text": [
      "[('accounts',), ('address',), ('levels',), ('charges',), ('transactions',), ('transaction_type',)]\n"
     ]
    }
   ],
   "source": [
    "#select directory that cointain db file\n",
    "#%cd \"C:\\Users\\Priscilla\\Desktop\\Gabriel\"\n",
    "\n",
    "connection = sqlite3.connect('desafio-tecnico.db')\n",
    "\n",
    "cursor = connection.cursor()\n",
    "\n",
    "#available\n",
    "table_list = [a for a in cursor.execute(\"SELECT name FROM sqlite_master WHERE type = 'table'\")]\n",
    "\n",
    "# here is you table list\n",
    "print(table_list)"
   ]
  },
  {
   "cell_type": "markdown",
   "id": "ff599787",
   "metadata": {},
   "source": [
    "<h2>Querys"
   ]
  },
  {
   "cell_type": "code",
   "execution_count": 3,
   "id": "89d70d18",
   "metadata": {},
   "outputs": [
    {
     "data": {
      "text/html": [
       "<div>\n",
       "<style scoped>\n",
       "    .dataframe tbody tr th:only-of-type {\n",
       "        vertical-align: middle;\n",
       "    }\n",
       "\n",
       "    .dataframe tbody tr th {\n",
       "        vertical-align: top;\n",
       "    }\n",
       "\n",
       "    .dataframe thead th {\n",
       "        text-align: right;\n",
       "    }\n",
       "</style>\n",
       "<table border=\"1\" class=\"dataframe\">\n",
       "  <thead>\n",
       "    <tr style=\"text-align: right;\">\n",
       "      <th></th>\n",
       "      <th>account_number</th>\n",
       "      <th>tansactionValue</th>\n",
       "      <th>description</th>\n",
       "      <th>occupation</th>\n",
       "      <th>age</th>\n",
       "      <th>state</th>\n",
       "      <th>city</th>\n",
       "      <th>fraud</th>\n",
       "    </tr>\n",
       "  </thead>\n",
       "  <tbody>\n",
       "    <tr>\n",
       "      <th>228919</th>\n",
       "      <td>700993</td>\n",
       "      <td>69457</td>\n",
       "      <td>pix_enviado</td>\n",
       "      <td>Corretor</td>\n",
       "      <td>36</td>\n",
       "      <td>ES</td>\n",
       "      <td>Sao Mateus</td>\n",
       "      <td>0</td>\n",
       "    </tr>\n",
       "    <tr>\n",
       "      <th>228920</th>\n",
       "      <td>947006</td>\n",
       "      <td>52144</td>\n",
       "      <td>pix_enviado</td>\n",
       "      <td>Investidor</td>\n",
       "      <td>56</td>\n",
       "      <td>RJ</td>\n",
       "      <td>Vassouras</td>\n",
       "      <td>0</td>\n",
       "    </tr>\n",
       "    <tr>\n",
       "      <th>228921</th>\n",
       "      <td>654870</td>\n",
       "      <td>18844</td>\n",
       "      <td>pix_enviado</td>\n",
       "      <td>Outros</td>\n",
       "      <td>22</td>\n",
       "      <td>MG</td>\n",
       "      <td>Extrema</td>\n",
       "      <td>0</td>\n",
       "    </tr>\n",
       "    <tr>\n",
       "      <th>228922</th>\n",
       "      <td>909353</td>\n",
       "      <td>22633</td>\n",
       "      <td>pix_enviado</td>\n",
       "      <td>Desenvolvedor</td>\n",
       "      <td>53</td>\n",
       "      <td>MG</td>\n",
       "      <td>Pirapora</td>\n",
       "      <td>0</td>\n",
       "    </tr>\n",
       "    <tr>\n",
       "      <th>228923</th>\n",
       "      <td>897231</td>\n",
       "      <td>81441</td>\n",
       "      <td>pix_enviado</td>\n",
       "      <td>Investidor</td>\n",
       "      <td>26</td>\n",
       "      <td>PR</td>\n",
       "      <td>Xambre</td>\n",
       "      <td>1</td>\n",
       "    </tr>\n",
       "  </tbody>\n",
       "</table>\n",
       "</div>"
      ],
      "text/plain": [
       "        account_number  tansactionValue  description     occupation  age  \\\n",
       "228919          700993            69457  pix_enviado       Corretor   36   \n",
       "228920          947006            52144  pix_enviado     Investidor   56   \n",
       "228921          654870            18844  pix_enviado         Outros   22   \n",
       "228922          909353            22633  pix_enviado  Desenvolvedor   53   \n",
       "228923          897231            81441  pix_enviado     Investidor   26   \n",
       "\n",
       "       state        city fraud  \n",
       "228919    ES  Sao Mateus     0  \n",
       "228920    RJ   Vassouras     0  \n",
       "228921    MG     Extrema     0  \n",
       "228922    MG    Pirapora     0  \n",
       "228923    PR      Xambre     1  "
      ]
     },
     "execution_count": 3,
     "metadata": {},
     "output_type": "execute_result"
    }
   ],
   "source": [
    "#Query for classification model\n",
    "\n",
    "dfModel = pd.read_sql_query(\"\"\"\n",
    "    SELECT accounts.account_number,\n",
    "    transactions.value as tansactionValue,\n",
    "    description,\n",
    "    accounts.occupation,\n",
    "    date('now') - date(accounts.birth) as age,\n",
    "    state,\n",
    "    city,x\n",
    "    \n",
    "    FROM accounts\n",
    "    \n",
    "    left join transactions as transactions on transactions.account_number = accounts.account_number \n",
    "    left join transaction_type as transaction_type on transactions.transaction_type_id = transaction_type.id \n",
    "    left join levels as levels on accounts.account_number = levels.account_number \n",
    "    left join address as address on address.id = accounts.address_id\n",
    "    \n",
    "    WHERE tansactionValue <> '' and level IS NOT NULL\"\"\"\n",
    "    ,connection)\n",
    "dfModel.tail()"
   ]
  },
  {
   "cell_type": "code",
   "execution_count": 4,
   "id": "02227159",
   "metadata": {},
   "outputs": [
    {
     "data": {
      "text/html": [
       "<div>\n",
       "<style scoped>\n",
       "    .dataframe tbody tr th:only-of-type {\n",
       "        vertical-align: middle;\n",
       "    }\n",
       "\n",
       "    .dataframe tbody tr th {\n",
       "        vertical-align: top;\n",
       "    }\n",
       "\n",
       "    .dataframe thead th {\n",
       "        text-align: right;\n",
       "    }\n",
       "</style>\n",
       "<table border=\"1\" class=\"dataframe\">\n",
       "  <thead>\n",
       "    <tr style=\"text-align: right;\">\n",
       "      <th></th>\n",
       "      <th>account_number</th>\n",
       "      <th>tansactionValue</th>\n",
       "      <th>description</th>\n",
       "      <th>occupation</th>\n",
       "      <th>age</th>\n",
       "      <th>state</th>\n",
       "      <th>city</th>\n",
       "      <th>fraud</th>\n",
       "    </tr>\n",
       "  </thead>\n",
       "  <tbody>\n",
       "    <tr>\n",
       "      <th>27313</th>\n",
       "      <td>354382</td>\n",
       "      <td>3844.0</td>\n",
       "      <td>pix_recebido</td>\n",
       "      <td>Corretor</td>\n",
       "      <td>35</td>\n",
       "      <td>RJ</td>\n",
       "      <td>Sao Joao de Meriti</td>\n",
       "      <td>None</td>\n",
       "    </tr>\n",
       "    <tr>\n",
       "      <th>27314</th>\n",
       "      <td>354382</td>\n",
       "      <td>3893.0</td>\n",
       "      <td>pix_recebido</td>\n",
       "      <td>Corretor</td>\n",
       "      <td>35</td>\n",
       "      <td>RJ</td>\n",
       "      <td>Sao Joao de Meriti</td>\n",
       "      <td>None</td>\n",
       "    </tr>\n",
       "    <tr>\n",
       "      <th>27315</th>\n",
       "      <td>354382</td>\n",
       "      <td>4011.0</td>\n",
       "      <td>pix_recebido</td>\n",
       "      <td>Corretor</td>\n",
       "      <td>35</td>\n",
       "      <td>RJ</td>\n",
       "      <td>Sao Joao de Meriti</td>\n",
       "      <td>None</td>\n",
       "    </tr>\n",
       "    <tr>\n",
       "      <th>27316</th>\n",
       "      <td>354382</td>\n",
       "      <td>4188.0</td>\n",
       "      <td>pix_recebido</td>\n",
       "      <td>Corretor</td>\n",
       "      <td>35</td>\n",
       "      <td>RJ</td>\n",
       "      <td>Sao Joao de Meriti</td>\n",
       "      <td>None</td>\n",
       "    </tr>\n",
       "    <tr>\n",
       "      <th>27317</th>\n",
       "      <td>354382</td>\n",
       "      <td>4279.0</td>\n",
       "      <td>pix_recebido</td>\n",
       "      <td>Corretor</td>\n",
       "      <td>35</td>\n",
       "      <td>RJ</td>\n",
       "      <td>Sao Joao de Meriti</td>\n",
       "      <td>None</td>\n",
       "    </tr>\n",
       "  </tbody>\n",
       "</table>\n",
       "</div>"
      ],
      "text/plain": [
       "       account_number  tansactionValue   description occupation  age state  \\\n",
       "27313          354382           3844.0  pix_recebido   Corretor   35    RJ   \n",
       "27314          354382           3893.0  pix_recebido   Corretor   35    RJ   \n",
       "27315          354382           4011.0  pix_recebido   Corretor   35    RJ   \n",
       "27316          354382           4188.0  pix_recebido   Corretor   35    RJ   \n",
       "27317          354382           4279.0  pix_recebido   Corretor   35    RJ   \n",
       "\n",
       "                     city fraud  \n",
       "27313  Sao Joao de Meriti  None  \n",
       "27314  Sao Joao de Meriti  None  \n",
       "27315  Sao Joao de Meriti  None  \n",
       "27316  Sao Joao de Meriti  None  \n",
       "27317  Sao Joao de Meriti  None  "
      ]
     },
     "execution_count": 4,
     "metadata": {},
     "output_type": "execute_result"
    }
   ],
   "source": [
    "#Query of all accounts and transactions that do not have registered level\n",
    "dfToClassify = pd.read_sql_query(\"\"\"\n",
    "    SELECT accounts.account_number,\n",
    "    transactions.value as tansactionValue,\n",
    "    description,\n",
    "    accounts.occupation,\n",
    "    date('now') - date(accounts.birth) as age,\n",
    "    state,\n",
    "    city,\n",
    "    CASE level\n",
    "        WHEN 'F' THEN '1'\n",
    "        WHEN 'A' THEN '0'\n",
    "        WHEN 'B' THEN '0'\n",
    "        WHEN 'C' THEN '0'\n",
    "        WHEN 'D' THEN '0'\n",
    "    END fraud\n",
    "    \n",
    "    FROM accounts\n",
    "    \n",
    "    left join transactions as transactions on transactions.account_number = accounts.account_number \n",
    "    left join transaction_type as transaction_type on transactions.transaction_type_id = transaction_type.id \n",
    "    left join levels as levels on accounts.account_number = levels.account_number \n",
    "    left join address as address on address.id = accounts.address_id\n",
    "    WHERE level IS NULL\"\"\"\n",
    "    ,connection)\n",
    "\n",
    "dfToClassify['tansactionValue'] = dfToClassify['tansactionValue'].fillna(0)\n",
    "dfToClassify['description'] = dfToClassify['description'].fillna(\"0\")\n",
    "\n",
    "dfToClassify.tail()"
   ]
  },
  {
   "cell_type": "markdown",
   "id": "a3af27bd",
   "metadata": {},
   "source": [
    "<h2> Pre-processing of Data"
   ]
  },
  {
   "cell_type": "code",
   "execution_count": 5,
   "id": "d7e75d25",
   "metadata": {},
   "outputs": [
    {
     "data": {
      "text/plain": [
       "((34339, 7), (34339,))"
      ]
     },
     "execution_count": 5,
     "metadata": {},
     "output_type": "execute_result"
    }
   ],
   "source": [
    "previsores = dfModel.iloc[:, 0:7].values\n",
    "classe = dfModel.iloc[:, 7].values\n",
    "\n",
    "from sklearn.preprocessing import LabelEncoder\n",
    "label_encoder_acc_name = LabelEncoder()\n",
    "label_encoder_level = LabelEncoder()\n",
    "label_encoder_description = LabelEncoder()\n",
    "label_encoder_occupation = LabelEncoder()\n",
    "label_encoder_state = LabelEncoder()\n",
    "label_encoder_city = LabelEncoder()\n",
    "\n",
    "previsores[:,0] = label_encoder_acc_name.fit_transform(previsores[:,0])\n",
    "previsores[:,2] = label_encoder_description.fit_transform(previsores[:,2])\n",
    "previsores[:,3] = label_encoder_occupation.fit_transform(previsores[:,3])\n",
    "previsores[:,5] = label_encoder_state.fit_transform(previsores[:,5])\n",
    "previsores[:,6] = label_encoder_city.fit_transform(previsores[:,6])\n",
    "\n",
    "from sklearn.model_selection import train_test_split\n",
    "previsores_treinamento, previsores_teste, classe_treinamento, classe_teste = train_test_split(previsores, classe, test_size=0.15, random_state=0)\n",
    "\n",
    "previsores_treinamento.shape, classe_treinamento.shape\n",
    "previsores_teste.shape, classe_teste.shape"
   ]
  },
  {
   "cell_type": "markdown",
   "id": "9f089e32",
   "metadata": {},
   "source": [
    "<h2> Application of classification models"
   ]
  },
  {
   "cell_type": "markdown",
   "id": "f244ee78",
   "metadata": {},
   "source": [
    "<h3>Naive Bayes"
   ]
  },
  {
   "cell_type": "code",
   "execution_count": 6,
   "id": "4c013d6e",
   "metadata": {},
   "outputs": [
    {
     "data": {
      "text/plain": [
       "0.9061417047671744"
      ]
     },
     "execution_count": 6,
     "metadata": {},
     "output_type": "execute_result"
    }
   ],
   "source": [
    "from sklearn.naive_bayes import GaussianNB\n",
    "naive_risco_credito = GaussianNB()\n",
    "naive_risco_credito.fit(previsores_treinamento, classe_treinamento)\n",
    "\n",
    "previsoes = naive_risco_credito.predict(previsores_teste)\n",
    "\n",
    "from sklearn.metrics import accuracy_score, confusion_matrix, classification_report\n",
    "accuracy_score(classe_teste, previsoes)"
   ]
  },
  {
   "cell_type": "markdown",
   "id": "2f05c999",
   "metadata": {},
   "source": [
    "<h3> KNN"
   ]
  },
  {
   "cell_type": "code",
   "execution_count": 7,
   "id": "b14ab856",
   "metadata": {},
   "outputs": [
    {
     "data": {
      "text/plain": [
       "0.9510469145869128"
      ]
     },
     "execution_count": 7,
     "metadata": {},
     "output_type": "execute_result"
    }
   ],
   "source": [
    "from sklearn.neighbors import KNeighborsClassifier\n",
    "knn_froud = KNeighborsClassifier(n_neighbors=5, metric='minkowski', p = 2)\n",
    "knn_froud.fit(previsores_treinamento, classe_treinamento)\n",
    "previsoes = knn_froud.predict(previsores_teste)\n",
    "\n",
    "from sklearn.metrics import accuracy_score, confusion_matrix, classification_report\n",
    "accuracy_score(classe_teste, previsoes)"
   ]
  },
  {
   "cell_type": "markdown",
   "id": "fae5f23b",
   "metadata": {},
   "source": [
    "<h3> Logistic Regression"
   ]
  },
  {
   "cell_type": "code",
   "execution_count": 8,
   "id": "b7d4f610",
   "metadata": {},
   "outputs": [
    {
     "data": {
      "text/plain": [
       "0.8857858411718454"
      ]
     },
     "execution_count": 8,
     "metadata": {},
     "output_type": "execute_result"
    }
   ],
   "source": [
    "from sklearn.linear_model import LogisticRegression\n",
    "logistic_froud = LogisticRegression(random_state=1)\n",
    "logistic_froud.fit(previsores_treinamento, classe_treinamento)\n",
    "previsoes = logistic_froud.predict(previsores_teste)\n",
    "\n",
    "from sklearn.metrics import accuracy_score, confusion_matrix, classification_report\n",
    "accuracy_score(classe_teste, previsoes)"
   ]
  },
  {
   "cell_type": "markdown",
   "id": "606ffcf7",
   "metadata": {},
   "source": [
    "<h3> Redes Neurais Artificiais"
   ]
  },
  {
   "cell_type": "code",
   "execution_count": 9,
   "id": "a8f246c7",
   "metadata": {},
   "outputs": [
    {
     "name": "stdout",
     "output_type": "stream",
     "text": [
      "Iteration 1, loss = 2.54478194\n",
      "Iteration 2, loss = 1.56856876\n",
      "Iteration 3, loss = 1.61789779\n",
      "Iteration 4, loss = 1.31690771\n",
      "Iteration 5, loss = 1.34778069\n",
      "Iteration 6, loss = 1.17403439\n",
      "Iteration 7, loss = 1.16193986\n",
      "Iteration 8, loss = 1.18048960\n",
      "Iteration 9, loss = 1.04648436\n",
      "Iteration 10, loss = 1.17491603\n",
      "Iteration 11, loss = 0.98646069\n",
      "Iteration 12, loss = 1.07011753\n",
      "Iteration 13, loss = 0.94008547\n",
      "Iteration 14, loss = 0.96118172\n",
      "Iteration 15, loss = 1.04026167\n",
      "Iteration 16, loss = 1.02667966\n",
      "Iteration 17, loss = 0.94987060\n",
      "Iteration 18, loss = 0.85325025\n",
      "Iteration 19, loss = 0.82435818\n",
      "Iteration 20, loss = 0.81444757\n",
      "Iteration 21, loss = 0.91789643\n",
      "Iteration 22, loss = 0.88080833\n",
      "Iteration 23, loss = 0.74499210\n",
      "Iteration 24, loss = 0.87075198\n",
      "Iteration 25, loss = 0.80953176\n",
      "Iteration 26, loss = 0.66748531\n",
      "Iteration 27, loss = 0.65113617\n",
      "Iteration 28, loss = 0.72368400\n",
      "Iteration 29, loss = 0.68953183\n",
      "Iteration 30, loss = 0.64569182\n",
      "Iteration 31, loss = 0.62141087\n",
      "Iteration 32, loss = 0.55339878\n",
      "Iteration 33, loss = 0.56264477\n",
      "Iteration 34, loss = 0.58702883\n",
      "Iteration 35, loss = 0.57223532\n",
      "Iteration 36, loss = 0.58978420\n",
      "Iteration 37, loss = 0.56644905\n",
      "Iteration 38, loss = 0.54454480\n",
      "Iteration 39, loss = 0.57248241\n",
      "Iteration 40, loss = 0.64119315\n",
      "Iteration 41, loss = 0.51554763\n",
      "Iteration 42, loss = 0.45516442\n",
      "Iteration 43, loss = 0.47141792\n",
      "Iteration 44, loss = 0.45513942\n",
      "Iteration 45, loss = 0.48365103\n",
      "Iteration 46, loss = 0.47341597\n",
      "Iteration 47, loss = 0.46477208\n",
      "Iteration 48, loss = 0.43101572\n",
      "Iteration 49, loss = 0.44692937\n",
      "Iteration 50, loss = 0.41405358\n",
      "Iteration 51, loss = 0.41486846\n",
      "Iteration 52, loss = 0.39721061\n",
      "Iteration 53, loss = 0.36512015\n",
      "Iteration 54, loss = 0.41641861\n",
      "Iteration 55, loss = 0.34753744\n",
      "Iteration 56, loss = 0.36533531\n",
      "Iteration 57, loss = 0.33796630\n",
      "Iteration 58, loss = 0.33528282\n",
      "Iteration 59, loss = 0.31920262\n",
      "Iteration 60, loss = 0.33880399\n",
      "Iteration 61, loss = 0.32598202\n",
      "Iteration 62, loss = 0.29900899\n",
      "Iteration 63, loss = 0.29007224\n",
      "Iteration 64, loss = 0.30537626\n",
      "Iteration 65, loss = 0.27857660\n",
      "Iteration 66, loss = 0.27375594\n",
      "Iteration 67, loss = 0.26197943\n",
      "Iteration 68, loss = 0.27459768\n",
      "Iteration 69, loss = 0.25621325\n",
      "Iteration 70, loss = 0.23990250\n",
      "Iteration 71, loss = 0.24236869\n",
      "Iteration 72, loss = 0.24102574\n",
      "Iteration 73, loss = 0.23445919\n",
      "Iteration 74, loss = 0.25589164\n",
      "Iteration 75, loss = 0.23009495\n",
      "Iteration 76, loss = 0.22815893\n",
      "Iteration 77, loss = 0.22825626\n",
      "Iteration 78, loss = 0.22679553\n",
      "Iteration 79, loss = 0.22386146\n",
      "Iteration 80, loss = 0.22223347\n",
      "Iteration 81, loss = 0.22224982\n",
      "Iteration 82, loss = 0.22014271\n",
      "Iteration 83, loss = 0.22061588\n",
      "Iteration 84, loss = 0.21884980\n",
      "Iteration 85, loss = 0.21954069\n",
      "Iteration 86, loss = 0.21699930\n",
      "Iteration 87, loss = 0.21872307\n",
      "Iteration 88, loss = 0.21432887\n",
      "Iteration 89, loss = 0.21491126\n",
      "Iteration 90, loss = 0.21422367\n",
      "Iteration 91, loss = 0.21548548\n",
      "Iteration 92, loss = 0.21307442\n",
      "Iteration 93, loss = 0.21338497\n",
      "Iteration 94, loss = 0.21263198\n",
      "Iteration 95, loss = 0.21095423\n",
      "Iteration 96, loss = 0.20993691\n",
      "Iteration 97, loss = 0.22752291\n",
      "Iteration 98, loss = 0.21036637\n",
      "Iteration 99, loss = 0.20778870\n",
      "Iteration 100, loss = 0.20851707\n",
      "Iteration 101, loss = 0.20806925\n",
      "Iteration 102, loss = 0.20903769\n",
      "Iteration 103, loss = 0.21107565\n",
      "Iteration 104, loss = 0.21155506\n",
      "Iteration 105, loss = 0.20888558\n",
      "Iteration 106, loss = 0.21486037\n",
      "Iteration 107, loss = 0.20801599\n",
      "Iteration 108, loss = 0.21201028\n",
      "Iteration 109, loss = 0.21730767\n",
      "Iteration 110, loss = 0.20798174\n",
      "Training loss did not improve more than tol=0.000010 for 10 consecutive epochs. Stopping.\n"
     ]
    },
    {
     "data": {
      "text/plain": [
       "0.9248958909694517"
      ]
     },
     "execution_count": 9,
     "metadata": {},
     "output_type": "execute_result"
    }
   ],
   "source": [
    "from sklearn.neural_network import MLPClassifier\n",
    "rede_neural_froud = MLPClassifier(max_iter=1500, verbose=True, tol=0.0000100,\n",
    "                                   solver = 'adam', activation = 'relu',\n",
    "                                   hidden_layer_sizes = (20,20))\n",
    "rede_neural_froud.fit(previsores_treinamento, classe_treinamento)\n",
    "previsoes = rede_neural_froud.predict(previsores_teste)\n",
    "\n",
    "from sklearn.metrics import accuracy_score, confusion_matrix, classification_report\n",
    "accuracy_score(classe_teste, previsoes)"
   ]
  },
  {
   "cell_type": "markdown",
   "id": "3f119bfd",
   "metadata": {},
   "source": [
    "<h3> Random Forest"
   ]
  },
  {
   "cell_type": "code",
   "execution_count": 10,
   "id": "99ad041f",
   "metadata": {},
   "outputs": [
    {
     "data": {
      "text/plain": [
       "0.9999126357785608"
      ]
     },
     "execution_count": 10,
     "metadata": {},
     "output_type": "execute_result"
    }
   ],
   "source": [
    "from sklearn.ensemble import RandomForestClassifier\n",
    "random_forest_froud = RandomForestClassifier(n_estimators=40, criterion='entropy', random_state = 0)\n",
    "random_forest_froud.fit(previsores_treinamento, classe_treinamento)\n",
    "\n",
    "previsoes = random_forest_froud.predict(previsores_teste)\n",
    "\n",
    "from sklearn.metrics import accuracy_score, confusion_matrix, classification_report\n",
    "accuracy_score(classe_teste, previsoes)"
   ]
  },
  {
   "cell_type": "markdown",
   "id": "735e6698",
   "metadata": {},
   "source": [
    "<h3> Arvore de decisão"
   ]
  },
  {
   "cell_type": "code",
   "execution_count": 11,
   "id": "2e996b06",
   "metadata": {},
   "outputs": [
    {
     "data": {
      "text/plain": [
       "0.9995923002999505"
      ]
     },
     "execution_count": 11,
     "metadata": {},
     "output_type": "execute_result"
    }
   ],
   "source": [
    "from sklearn.tree import DecisionTreeClassifier\n",
    "arvore_risco_fraud = DecisionTreeClassifier(criterion='entropy')\n",
    "arvore_risco_fraud.fit(previsores_treinamento, classe_treinamento)\n",
    "\n",
    "previsoes = arvore_risco_fraud.predict(previsores_teste)\n",
    "\n",
    "from sklearn.metrics import accuracy_score, confusion_matrix, classification_report\n",
    "accuracy_score(classe_teste, previsoes)"
   ]
  },
  {
   "cell_type": "markdown",
   "id": "fb39f88c",
   "metadata": {},
   "source": [
    "Arvore de Decisão e Random Forest se destacaram como modelos preditivos de idetificação.\n",
    "\n",
    "A baixo o modelo sera aplicado aos usuários que ainda não possuem level classificado, de acordo com a query \"dfToClassify\"."
   ]
  },
  {
   "cell_type": "code",
   "execution_count": 12,
   "id": "a8969905",
   "metadata": {
    "scrolled": true
   },
   "outputs": [
    {
     "name": "stdout",
     "output_type": "stream",
     "text": [
      "27318 Transações sem classificação de level\n",
      "103 Accounts com pendência de avaliação\n"
     ]
    }
   ],
   "source": [
    "print(dfToClassify['account_number'].count(),\"Transações sem classificação de level\")\n",
    "print(dfToClassify['account_number'].nunique(),\"Accounts com pendência de avaliação\")"
   ]
  },
  {
   "cell_type": "markdown",
   "id": "e59fc092",
   "metadata": {},
   "source": [
    "<h2> Pre-processing of data and application of classification model"
   ]
  },
  {
   "cell_type": "code",
   "execution_count": 13,
   "id": "2ad95235",
   "metadata": {},
   "outputs": [],
   "source": [
    "atributos = dfToClassify.iloc[:, 0:7].values\n",
    "\n",
    "from sklearn.preprocessing import LabelEncoder\n",
    "label_encoder_acc_name = LabelEncoder()\n",
    "label_encoder_level = LabelEncoder()\n",
    "label_encoder_description = LabelEncoder()\n",
    "label_encoder_occupation = LabelEncoder()\n",
    "label_encoder_state = LabelEncoder()\n",
    "label_encoder_city = LabelEncoder()\n",
    "\n",
    "atributos[:,0] = label_encoder_acc_name.fit_transform(atributos[:,0])\n",
    "atributos[:,2] = label_encoder_description.fit_transform(atributos[:,2])\n",
    "atributos[:,3] = label_encoder_occupation.fit_transform(atributos[:,3])\n",
    "atributos[:,5] = label_encoder_state.fit_transform(atributos[:,5])\n",
    "atributos[:,6] = label_encoder_city.fit_transform(atributos[:,6])\n",
    "\n",
    "#Classification of\n",
    "previsoes = arvore_risco_fraud.predict(atributos)"
   ]
  },
  {
   "cell_type": "markdown",
   "id": "7cd74990",
   "metadata": {},
   "source": [
    "<h3> Dataframe is created with all event classified"
   ]
  },
  {
   "cell_type": "code",
   "execution_count": 14,
   "id": "44b52a2e",
   "metadata": {},
   "outputs": [],
   "source": [
    "classification = pd.DataFrame()\n",
    "classification['account_number'] = dfToClassify['account_number']\n",
    "classification['fraud'] = previsoes"
   ]
  },
  {
   "cell_type": "markdown",
   "id": "b4b88f67",
   "metadata": {},
   "source": [
    "- After classifying the 27,318 missing records any user who has a transaction with fraud was classified as fraudulent."
   ]
  },
  {
   "cell_type": "code",
   "execution_count": 31,
   "id": "40c0b1ad",
   "metadata": {},
   "outputs": [],
   "source": [
    "classification['fraud'] = classification['fraud'].astype(int)\n",
    "\n",
    "classificationAccount = pd.DataFrame((classification.groupby(classification['account_number'])['fraud'].max())).reset_index()\n",
    "classificationAccount.to_csv(\"fraudClassification.csv\",index = False, sep=';')"
   ]
  }
 ],
 "metadata": {
  "kernelspec": {
   "display_name": "Python 3 (ipykernel)",
   "language": "python",
   "name": "python3"
  },
  "language_info": {
   "codemirror_mode": {
    "name": "ipython",
    "version": 3
   },
   "file_extension": ".py",
   "mimetype": "text/x-python",
   "name": "python",
   "nbconvert_exporter": "python",
   "pygments_lexer": "ipython3",
   "version": "3.9.7"
  }
 },
 "nbformat": 4,
 "nbformat_minor": 5
}

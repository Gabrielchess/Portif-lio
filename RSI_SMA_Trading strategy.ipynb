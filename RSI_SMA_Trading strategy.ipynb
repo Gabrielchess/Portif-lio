{
 "cells": [
  {
   "cell_type": "markdown",
   "id": "7ff4e56e",
   "metadata": {},
   "source": [
    "## Avaliação do desempenho dos algoritimos de SMA e RSI no histórico do S&P500"
   ]
  },
  {
   "cell_type": "markdown",
   "id": "3c93bb8a",
   "metadata": {},
   "source": [
    "- __Author:__ Gabriel Senra\n",
    "- __Date:__ 10/02/2022"
   ]
  },
  {
   "cell_type": "code",
   "execution_count": 1,
   "id": "2aa38886",
   "metadata": {},
   "outputs": [],
   "source": [
    "import pandas as pd\n",
    "import yfinance as yf\n",
    "import ta\n",
    "import numpy as np"
   ]
  },
  {
   "cell_type": "markdown",
   "id": "b059888f",
   "metadata": {},
   "source": [
    "### Leitura do banco de dados (Histórico do S&P500 diário)"
   ]
  },
  {
   "cell_type": "code",
   "execution_count": 2,
   "id": "207f2ba7",
   "metadata": {},
   "outputs": [
    {
     "name": "stdout",
     "output_type": "stream",
     "text": [
      "[*********************100%***********************]  1 of 1 completed\n"
     ]
    }
   ],
   "source": [
    "df = yf.download('^GSPC', start = '1996-01-01')"
   ]
  },
  {
   "cell_type": "code",
   "execution_count": 34,
   "id": "425a2d8d",
   "metadata": {},
   "outputs": [
    {
     "data": {
      "text/html": [
       "<div>\n",
       "<style scoped>\n",
       "    .dataframe tbody tr th:only-of-type {\n",
       "        vertical-align: middle;\n",
       "    }\n",
       "\n",
       "    .dataframe tbody tr th {\n",
       "        vertical-align: top;\n",
       "    }\n",
       "\n",
       "    .dataframe thead th {\n",
       "        text-align: right;\n",
       "    }\n",
       "</style>\n",
       "<table border=\"1\" class=\"dataframe\">\n",
       "  <thead>\n",
       "    <tr style=\"text-align: right;\">\n",
       "      <th></th>\n",
       "      <th>Open</th>\n",
       "      <th>High</th>\n",
       "      <th>Low</th>\n",
       "      <th>Close</th>\n",
       "      <th>Adj Close</th>\n",
       "      <th>Volume</th>\n",
       "      <th>SMA200</th>\n",
       "      <th>RSI</th>\n",
       "      <th>Signal</th>\n",
       "    </tr>\n",
       "    <tr>\n",
       "      <th>Date</th>\n",
       "      <th></th>\n",
       "      <th></th>\n",
       "      <th></th>\n",
       "      <th></th>\n",
       "      <th></th>\n",
       "      <th></th>\n",
       "      <th></th>\n",
       "      <th></th>\n",
       "      <th></th>\n",
       "    </tr>\n",
       "  </thead>\n",
       "  <tbody>\n",
       "    <tr>\n",
       "      <th>1996-01-02</th>\n",
       "      <td>615.929993</td>\n",
       "      <td>620.739990</td>\n",
       "      <td>613.169983</td>\n",
       "      <td>620.729980</td>\n",
       "      <td>620.729980</td>\n",
       "      <td>364180000</td>\n",
       "      <td>NaN</td>\n",
       "      <td>NaN</td>\n",
       "      <td>False</td>\n",
       "    </tr>\n",
       "    <tr>\n",
       "      <th>1996-01-03</th>\n",
       "      <td>620.729980</td>\n",
       "      <td>623.250000</td>\n",
       "      <td>619.559998</td>\n",
       "      <td>621.320007</td>\n",
       "      <td>621.320007</td>\n",
       "      <td>468950000</td>\n",
       "      <td>NaN</td>\n",
       "      <td>NaN</td>\n",
       "      <td>False</td>\n",
       "    </tr>\n",
       "    <tr>\n",
       "      <th>1996-01-04</th>\n",
       "      <td>621.320007</td>\n",
       "      <td>624.489990</td>\n",
       "      <td>613.960022</td>\n",
       "      <td>617.700012</td>\n",
       "      <td>617.700012</td>\n",
       "      <td>512580000</td>\n",
       "      <td>NaN</td>\n",
       "      <td>NaN</td>\n",
       "      <td>False</td>\n",
       "    </tr>\n",
       "    <tr>\n",
       "      <th>1996-01-05</th>\n",
       "      <td>617.700012</td>\n",
       "      <td>617.700012</td>\n",
       "      <td>612.020020</td>\n",
       "      <td>616.710022</td>\n",
       "      <td>616.710022</td>\n",
       "      <td>437110000</td>\n",
       "      <td>NaN</td>\n",
       "      <td>NaN</td>\n",
       "      <td>False</td>\n",
       "    </tr>\n",
       "    <tr>\n",
       "      <th>1996-01-08</th>\n",
       "      <td>616.710022</td>\n",
       "      <td>618.460022</td>\n",
       "      <td>616.489990</td>\n",
       "      <td>618.460022</td>\n",
       "      <td>618.460022</td>\n",
       "      <td>130360000</td>\n",
       "      <td>NaN</td>\n",
       "      <td>NaN</td>\n",
       "      <td>False</td>\n",
       "    </tr>\n",
       "    <tr>\n",
       "      <th>...</th>\n",
       "      <td>...</td>\n",
       "      <td>...</td>\n",
       "      <td>...</td>\n",
       "      <td>...</td>\n",
       "      <td>...</td>\n",
       "      <td>...</td>\n",
       "      <td>...</td>\n",
       "      <td>...</td>\n",
       "      <td>...</td>\n",
       "    </tr>\n",
       "    <tr>\n",
       "      <th>2022-08-08</th>\n",
       "      <td>4155.930176</td>\n",
       "      <td>4186.620117</td>\n",
       "      <td>4128.970215</td>\n",
       "      <td>4140.060059</td>\n",
       "      <td>4140.060059</td>\n",
       "      <td>3604650000</td>\n",
       "      <td>4335.983599</td>\n",
       "      <td>67.258849</td>\n",
       "      <td>False</td>\n",
       "    </tr>\n",
       "    <tr>\n",
       "      <th>2022-08-09</th>\n",
       "      <td>4133.109863</td>\n",
       "      <td>4137.299805</td>\n",
       "      <td>4112.089844</td>\n",
       "      <td>4122.470215</td>\n",
       "      <td>4122.470215</td>\n",
       "      <td>3337150000</td>\n",
       "      <td>4333.847051</td>\n",
       "      <td>63.557422</td>\n",
       "      <td>False</td>\n",
       "    </tr>\n",
       "    <tr>\n",
       "      <th>2022-08-10</th>\n",
       "      <td>4181.020020</td>\n",
       "      <td>4211.029785</td>\n",
       "      <td>4177.259766</td>\n",
       "      <td>4210.240234</td>\n",
       "      <td>4210.240234</td>\n",
       "      <td>3998590000</td>\n",
       "      <td>4332.173752</td>\n",
       "      <td>72.077083</td>\n",
       "      <td>False</td>\n",
       "    </tr>\n",
       "    <tr>\n",
       "      <th>2022-08-11</th>\n",
       "      <td>4227.399902</td>\n",
       "      <td>4257.910156</td>\n",
       "      <td>4201.410156</td>\n",
       "      <td>4207.270020</td>\n",
       "      <td>4207.270020</td>\n",
       "      <td>3925060000</td>\n",
       "      <td>4330.377703</td>\n",
       "      <td>71.449012</td>\n",
       "      <td>False</td>\n",
       "    </tr>\n",
       "    <tr>\n",
       "      <th>2022-08-12</th>\n",
       "      <td>4225.020020</td>\n",
       "      <td>4280.470215</td>\n",
       "      <td>4219.779785</td>\n",
       "      <td>4280.149902</td>\n",
       "      <td>4280.149902</td>\n",
       "      <td>3252290000</td>\n",
       "      <td>4328.904502</td>\n",
       "      <td>76.929770</td>\n",
       "      <td>False</td>\n",
       "    </tr>\n",
       "  </tbody>\n",
       "</table>\n",
       "<p>6701 rows × 9 columns</p>\n",
       "</div>"
      ],
      "text/plain": [
       "                   Open         High          Low        Close    Adj Close  \\\n",
       "Date                                                                          \n",
       "1996-01-02   615.929993   620.739990   613.169983   620.729980   620.729980   \n",
       "1996-01-03   620.729980   623.250000   619.559998   621.320007   621.320007   \n",
       "1996-01-04   621.320007   624.489990   613.960022   617.700012   617.700012   \n",
       "1996-01-05   617.700012   617.700012   612.020020   616.710022   616.710022   \n",
       "1996-01-08   616.710022   618.460022   616.489990   618.460022   618.460022   \n",
       "...                 ...          ...          ...          ...          ...   \n",
       "2022-08-08  4155.930176  4186.620117  4128.970215  4140.060059  4140.060059   \n",
       "2022-08-09  4133.109863  4137.299805  4112.089844  4122.470215  4122.470215   \n",
       "2022-08-10  4181.020020  4211.029785  4177.259766  4210.240234  4210.240234   \n",
       "2022-08-11  4227.399902  4257.910156  4201.410156  4207.270020  4207.270020   \n",
       "2022-08-12  4225.020020  4280.470215  4219.779785  4280.149902  4280.149902   \n",
       "\n",
       "                Volume       SMA200        RSI  Signal  \n",
       "Date                                                    \n",
       "1996-01-02   364180000          NaN        NaN   False  \n",
       "1996-01-03   468950000          NaN        NaN   False  \n",
       "1996-01-04   512580000          NaN        NaN   False  \n",
       "1996-01-05   437110000          NaN        NaN   False  \n",
       "1996-01-08   130360000          NaN        NaN   False  \n",
       "...                ...          ...        ...     ...  \n",
       "2022-08-08  3604650000  4335.983599  67.258849   False  \n",
       "2022-08-09  3337150000  4333.847051  63.557422   False  \n",
       "2022-08-10  3998590000  4332.173752  72.077083   False  \n",
       "2022-08-11  3925060000  4330.377703  71.449012   False  \n",
       "2022-08-12  3252290000  4328.904502  76.929770   False  \n",
       "\n",
       "[6701 rows x 9 columns]"
      ]
     },
     "execution_count": 34,
     "metadata": {},
     "output_type": "execute_result"
    }
   ],
   "source": [
    "df"
   ]
  },
  {
   "cell_type": "markdown",
   "id": "da873802",
   "metadata": {},
   "source": [
    "### Calculo dos indicadores e sinal de compra"
   ]
  },
  {
   "cell_type": "code",
   "execution_count": 35,
   "id": "709534b5",
   "metadata": {},
   "outputs": [],
   "source": [
    "df['SMA200'] = ta.trend.sma_indicator(df.Close, window=200)"
   ]
  },
  {
   "cell_type": "code",
   "execution_count": 36,
   "id": "663d0485",
   "metadata": {},
   "outputs": [],
   "source": [
    "df['RSI'] = ta.momentum.rsi(df.Close, window=10)"
   ]
  },
  {
   "cell_type": "code",
   "execution_count": 37,
   "id": "7587f3c1",
   "metadata": {},
   "outputs": [],
   "source": [
    "df['Signal'] = np.where((df.Close > df.SMA200) & (df.RSI < 30), True, False)"
   ]
  },
  {
   "cell_type": "code",
   "execution_count": 38,
   "id": "88b636ec",
   "metadata": {},
   "outputs": [
    {
     "data": {
      "text/html": [
       "<div>\n",
       "<style scoped>\n",
       "    .dataframe tbody tr th:only-of-type {\n",
       "        vertical-align: middle;\n",
       "    }\n",
       "\n",
       "    .dataframe tbody tr th {\n",
       "        vertical-align: top;\n",
       "    }\n",
       "\n",
       "    .dataframe thead th {\n",
       "        text-align: right;\n",
       "    }\n",
       "</style>\n",
       "<table border=\"1\" class=\"dataframe\">\n",
       "  <thead>\n",
       "    <tr style=\"text-align: right;\">\n",
       "      <th></th>\n",
       "      <th>Open</th>\n",
       "      <th>High</th>\n",
       "      <th>Low</th>\n",
       "      <th>Close</th>\n",
       "      <th>Adj Close</th>\n",
       "      <th>Volume</th>\n",
       "      <th>SMA200</th>\n",
       "      <th>RSI</th>\n",
       "      <th>Signal</th>\n",
       "    </tr>\n",
       "    <tr>\n",
       "      <th>Date</th>\n",
       "      <th></th>\n",
       "      <th></th>\n",
       "      <th></th>\n",
       "      <th></th>\n",
       "      <th></th>\n",
       "      <th></th>\n",
       "      <th></th>\n",
       "      <th></th>\n",
       "      <th></th>\n",
       "    </tr>\n",
       "  </thead>\n",
       "  <tbody>\n",
       "    <tr>\n",
       "      <th>1996-01-02</th>\n",
       "      <td>615.929993</td>\n",
       "      <td>620.739990</td>\n",
       "      <td>613.169983</td>\n",
       "      <td>620.729980</td>\n",
       "      <td>620.729980</td>\n",
       "      <td>364180000</td>\n",
       "      <td>NaN</td>\n",
       "      <td>NaN</td>\n",
       "      <td>False</td>\n",
       "    </tr>\n",
       "    <tr>\n",
       "      <th>1996-01-03</th>\n",
       "      <td>620.729980</td>\n",
       "      <td>623.250000</td>\n",
       "      <td>619.559998</td>\n",
       "      <td>621.320007</td>\n",
       "      <td>621.320007</td>\n",
       "      <td>468950000</td>\n",
       "      <td>NaN</td>\n",
       "      <td>NaN</td>\n",
       "      <td>False</td>\n",
       "    </tr>\n",
       "    <tr>\n",
       "      <th>1996-01-04</th>\n",
       "      <td>621.320007</td>\n",
       "      <td>624.489990</td>\n",
       "      <td>613.960022</td>\n",
       "      <td>617.700012</td>\n",
       "      <td>617.700012</td>\n",
       "      <td>512580000</td>\n",
       "      <td>NaN</td>\n",
       "      <td>NaN</td>\n",
       "      <td>False</td>\n",
       "    </tr>\n",
       "    <tr>\n",
       "      <th>1996-01-05</th>\n",
       "      <td>617.700012</td>\n",
       "      <td>617.700012</td>\n",
       "      <td>612.020020</td>\n",
       "      <td>616.710022</td>\n",
       "      <td>616.710022</td>\n",
       "      <td>437110000</td>\n",
       "      <td>NaN</td>\n",
       "      <td>NaN</td>\n",
       "      <td>False</td>\n",
       "    </tr>\n",
       "    <tr>\n",
       "      <th>1996-01-08</th>\n",
       "      <td>616.710022</td>\n",
       "      <td>618.460022</td>\n",
       "      <td>616.489990</td>\n",
       "      <td>618.460022</td>\n",
       "      <td>618.460022</td>\n",
       "      <td>130360000</td>\n",
       "      <td>NaN</td>\n",
       "      <td>NaN</td>\n",
       "      <td>False</td>\n",
       "    </tr>\n",
       "    <tr>\n",
       "      <th>...</th>\n",
       "      <td>...</td>\n",
       "      <td>...</td>\n",
       "      <td>...</td>\n",
       "      <td>...</td>\n",
       "      <td>...</td>\n",
       "      <td>...</td>\n",
       "      <td>...</td>\n",
       "      <td>...</td>\n",
       "      <td>...</td>\n",
       "    </tr>\n",
       "    <tr>\n",
       "      <th>2022-08-08</th>\n",
       "      <td>4155.930176</td>\n",
       "      <td>4186.620117</td>\n",
       "      <td>4128.970215</td>\n",
       "      <td>4140.060059</td>\n",
       "      <td>4140.060059</td>\n",
       "      <td>3604650000</td>\n",
       "      <td>4335.983599</td>\n",
       "      <td>67.258849</td>\n",
       "      <td>False</td>\n",
       "    </tr>\n",
       "    <tr>\n",
       "      <th>2022-08-09</th>\n",
       "      <td>4133.109863</td>\n",
       "      <td>4137.299805</td>\n",
       "      <td>4112.089844</td>\n",
       "      <td>4122.470215</td>\n",
       "      <td>4122.470215</td>\n",
       "      <td>3337150000</td>\n",
       "      <td>4333.847051</td>\n",
       "      <td>63.557422</td>\n",
       "      <td>False</td>\n",
       "    </tr>\n",
       "    <tr>\n",
       "      <th>2022-08-10</th>\n",
       "      <td>4181.020020</td>\n",
       "      <td>4211.029785</td>\n",
       "      <td>4177.259766</td>\n",
       "      <td>4210.240234</td>\n",
       "      <td>4210.240234</td>\n",
       "      <td>3998590000</td>\n",
       "      <td>4332.173752</td>\n",
       "      <td>72.077083</td>\n",
       "      <td>False</td>\n",
       "    </tr>\n",
       "    <tr>\n",
       "      <th>2022-08-11</th>\n",
       "      <td>4227.399902</td>\n",
       "      <td>4257.910156</td>\n",
       "      <td>4201.410156</td>\n",
       "      <td>4207.270020</td>\n",
       "      <td>4207.270020</td>\n",
       "      <td>3925060000</td>\n",
       "      <td>4330.377703</td>\n",
       "      <td>71.449012</td>\n",
       "      <td>False</td>\n",
       "    </tr>\n",
       "    <tr>\n",
       "      <th>2022-08-12</th>\n",
       "      <td>4225.020020</td>\n",
       "      <td>4280.470215</td>\n",
       "      <td>4219.779785</td>\n",
       "      <td>4280.149902</td>\n",
       "      <td>4280.149902</td>\n",
       "      <td>3252290000</td>\n",
       "      <td>4328.904502</td>\n",
       "      <td>76.929770</td>\n",
       "      <td>False</td>\n",
       "    </tr>\n",
       "  </tbody>\n",
       "</table>\n",
       "<p>6701 rows × 9 columns</p>\n",
       "</div>"
      ],
      "text/plain": [
       "                   Open         High          Low        Close    Adj Close  \\\n",
       "Date                                                                          \n",
       "1996-01-02   615.929993   620.739990   613.169983   620.729980   620.729980   \n",
       "1996-01-03   620.729980   623.250000   619.559998   621.320007   621.320007   \n",
       "1996-01-04   621.320007   624.489990   613.960022   617.700012   617.700012   \n",
       "1996-01-05   617.700012   617.700012   612.020020   616.710022   616.710022   \n",
       "1996-01-08   616.710022   618.460022   616.489990   618.460022   618.460022   \n",
       "...                 ...          ...          ...          ...          ...   \n",
       "2022-08-08  4155.930176  4186.620117  4128.970215  4140.060059  4140.060059   \n",
       "2022-08-09  4133.109863  4137.299805  4112.089844  4122.470215  4122.470215   \n",
       "2022-08-10  4181.020020  4211.029785  4177.259766  4210.240234  4210.240234   \n",
       "2022-08-11  4227.399902  4257.910156  4201.410156  4207.270020  4207.270020   \n",
       "2022-08-12  4225.020020  4280.470215  4219.779785  4280.149902  4280.149902   \n",
       "\n",
       "                Volume       SMA200        RSI  Signal  \n",
       "Date                                                    \n",
       "1996-01-02   364180000          NaN        NaN   False  \n",
       "1996-01-03   468950000          NaN        NaN   False  \n",
       "1996-01-04   512580000          NaN        NaN   False  \n",
       "1996-01-05   437110000          NaN        NaN   False  \n",
       "1996-01-08   130360000          NaN        NaN   False  \n",
       "...                ...          ...        ...     ...  \n",
       "2022-08-08  3604650000  4335.983599  67.258849   False  \n",
       "2022-08-09  3337150000  4333.847051  63.557422   False  \n",
       "2022-08-10  3998590000  4332.173752  72.077083   False  \n",
       "2022-08-11  3925060000  4330.377703  71.449012   False  \n",
       "2022-08-12  3252290000  4328.904502  76.929770   False  \n",
       "\n",
       "[6701 rows x 9 columns]"
      ]
     },
     "execution_count": 38,
     "metadata": {},
     "output_type": "execute_result"
    }
   ],
   "source": [
    "df"
   ]
  },
  {
   "cell_type": "markdown",
   "id": "390c82ca",
   "metadata": {},
   "source": [
    "### Identificação das datas de compra e venda"
   ]
  },
  {
   "cell_type": "code",
   "execution_count": 39,
   "id": "58b530d1",
   "metadata": {},
   "outputs": [],
   "source": [
    "Buying_dates = []\n",
    "Selling_dates = []\n",
    "\n",
    "for i in range(len(df)):\n",
    "    if df.Signal.iloc[i]:\n",
    "        Buying_dates.append(df.iloc[i+1].name)\n",
    "        for j in range(1,11):\n",
    "            if df['RSI'].iloc[i + j] > 40:\n",
    "                Selling_dates.append(df.iloc[i+j+1].name)\n",
    "                break\n",
    "            elif j == 10:\n",
    "                Selling_dates.append(df.iloc[i+j+1].name)"
   ]
  },
  {
   "cell_type": "code",
   "execution_count": 40,
   "id": "116bafd6",
   "metadata": {},
   "outputs": [
    {
     "data": {
      "text/html": [
       "<div>\n",
       "<style scoped>\n",
       "    .dataframe tbody tr th:only-of-type {\n",
       "        vertical-align: middle;\n",
       "    }\n",
       "\n",
       "    .dataframe tbody tr th {\n",
       "        vertical-align: top;\n",
       "    }\n",
       "\n",
       "    .dataframe thead th {\n",
       "        text-align: right;\n",
       "    }\n",
       "</style>\n",
       "<table border=\"1\" class=\"dataframe\">\n",
       "  <thead>\n",
       "    <tr style=\"text-align: right;\">\n",
       "      <th></th>\n",
       "      <th>Buying_dates</th>\n",
       "      <th>Selling_dates</th>\n",
       "    </tr>\n",
       "  </thead>\n",
       "  <tbody>\n",
       "    <tr>\n",
       "      <th>72</th>\n",
       "      <td>2019-10-03</td>\n",
       "      <td>2019-10-07</td>\n",
       "    </tr>\n",
       "    <tr>\n",
       "      <th>73</th>\n",
       "      <td>2020-02-26</td>\n",
       "      <td>2020-03-05</td>\n",
       "    </tr>\n",
       "    <tr>\n",
       "      <th>75</th>\n",
       "      <td>2020-10-29</td>\n",
       "      <td>2020-11-04</td>\n",
       "    </tr>\n",
       "    <tr>\n",
       "      <th>76</th>\n",
       "      <td>2021-09-21</td>\n",
       "      <td>2021-09-24</td>\n",
       "    </tr>\n",
       "    <tr>\n",
       "      <th>78</th>\n",
       "      <td>2022-01-20</td>\n",
       "      <td>2022-02-01</td>\n",
       "    </tr>\n",
       "  </tbody>\n",
       "</table>\n",
       "</div>"
      ],
      "text/plain": [
       "   Buying_dates Selling_dates\n",
       "72   2019-10-03    2019-10-07\n",
       "73   2020-02-26    2020-03-05\n",
       "75   2020-10-29    2020-11-04\n",
       "76   2021-09-21    2021-09-24\n",
       "78   2022-01-20    2022-02-01"
      ]
     },
     "execution_count": 40,
     "metadata": {},
     "output_type": "execute_result"
    }
   ],
   "source": [
    "frame = pd.DataFrame({'Buying_dates':Buying_dates, 'Selling_dates':Selling_dates})\n",
    "actualtrades = frame[frame.Buying_dates > frame.Selling_dates.shift(1)]\n",
    "actualtrades = frame[:1].append(actualtrades)\n",
    "\n",
    "actualtrades.tail()"
   ]
  },
  {
   "cell_type": "markdown",
   "id": "d083385a",
   "metadata": {},
   "source": [
    "### Rentabilidade em valores absolutos"
   ]
  },
  {
   "cell_type": "code",
   "execution_count": 41,
   "id": "a09eabaf",
   "metadata": {},
   "outputs": [
    {
     "data": {
      "text/plain": [
       "array([ 10.55999756,   9.        ,  17.06994629,  44.85998535,\n",
       "        11.55004883,  20.35998535,  22.35009766,  34.29992676,\n",
       "        16.9699707 ,   6.44006348,   9.70007324,   2.45996094,\n",
       "         3.25      ,   8.68994141,  26.7800293 ,  29.34997559,\n",
       "        20.04003906,   1.55993652,  28.63000488,  -7.10998535,\n",
       "        13.10998535,   7.88000488,  32.19006348,   3.63000488,\n",
       "        32.27001953,  29.60986328,  31.11987305,   9.90991211,\n",
       "        36.42993164,  20.86010742,  34.79980469,  35.67993164,\n",
       "        69.33007812,  58.85009766, -64.19995117, 129.29003906,\n",
       "        63.58984375, -27.78027344])"
      ]
     },
     "execution_count": 41,
     "metadata": {},
     "output_type": "execute_result"
    }
   ],
   "source": [
    "#A partir das datas de compra e venda vemos a rentabilidade em valores absolutos\n",
    "profits = df.loc[actualtrades.Selling_dates].Open.values - df.loc[actualtrades.Buying_dates].Open.values\n",
    "profits"
   ]
  },
  {
   "cell_type": "markdown",
   "id": "0e22a88a",
   "metadata": {},
   "source": [
    "### Porcentagem de transações Lucrativas:"
   ]
  },
  {
   "cell_type": "code",
   "execution_count": 42,
   "id": "154673a8",
   "metadata": {},
   "outputs": [
    {
     "name": "stdout",
     "output_type": "stream",
     "text": [
      "92.1 % das transações foram lucrativas\n"
     ]
    }
   ],
   "source": [
    "porcentagemSucesso = round((len([i for i in profits if i > 0])/len (profits))*100,1)\n",
    "print(porcentagemSucesso,\"% das transações foram lucrativas\")"
   ]
  },
  {
   "cell_type": "markdown",
   "id": "608d8438",
   "metadata": {},
   "source": [
    "### Porcentagem da Rentabilidade por transação"
   ]
  },
  {
   "cell_type": "code",
   "execution_count": 43,
   "id": "e56f0296",
   "metadata": {},
   "outputs": [
    {
     "data": {
      "text/plain": [
       "array([ 0.01464673,  0.01188715,  0.02314098,  0.05115222,  0.01077309,\n",
       "        0.01585175,  0.01712218,  0.02521757,  0.01533274,  0.00592397,\n",
       "        0.00827856,  0.0019366 ,  0.00232369,  0.00595638,  0.0249374 ,\n",
       "        0.02604164,  0.0158845 ,  0.00121272,  0.02106727, -0.00531246,\n",
       "        0.00796084,  0.00441952,  0.01845951,  0.00188103,  0.01624294,\n",
       "        0.01396125,  0.01482746,  0.0042484 ,  0.01393231,  0.00788152,\n",
       "        0.01253202,  0.01265192,  0.02423129,  0.02039596, -0.0204465 ,\n",
       "        0.03945173,  0.01453665, -0.00610911])"
      ]
     },
     "execution_count": 43,
     "metadata": {},
     "output_type": "execute_result"
    }
   ],
   "source": [
    "relprofts = (df.loc[actualtrades.Selling_dates].Open.values-df.loc[actualtrades.Buying_dates].Open.values)/df.loc[actualtrades.Buying_dates].Open.values\n",
    "relprofts"
   ]
  },
  {
   "cell_type": "markdown",
   "id": "0da7e563",
   "metadata": {},
   "source": [
    "### Rentabilidade média por transação"
   ]
  },
  {
   "cell_type": "code",
   "execution_count": 44,
   "id": "bd07c2ae",
   "metadata": {},
   "outputs": [
    {
     "name": "stdout",
     "output_type": "stream",
     "text": [
      "1.3 % de lucro em média por transação\n"
     ]
    }
   ],
   "source": [
    "realProf = round(relprofts.mean()*100,2)\n",
    "print(realProf,\"% de lucro em média por transação\")"
   ]
  },
  {
   "cell_type": "markdown",
   "id": "a7f0f862",
   "metadata": {},
   "source": [
    "### Rentabilidade acumulada"
   ]
  },
  {
   "cell_type": "code",
   "execution_count": 45,
   "id": "cb8a76c8",
   "metadata": {},
   "outputs": [
    {
     "name": "stdout",
     "output_type": "stream",
     "text": [
      "[1.01464673 1.02670799 1.05046702 1.10420074 1.1160964  1.13378848\n",
      " 1.15320141 1.18228234 1.20040997 1.20752116 1.2175177  1.21987554\n",
      " 1.22271015 1.22999307 1.26066591 1.29349572 1.31404225 1.31563581\n",
      " 1.34335268 1.33621617 1.34685357 1.35280601 1.37777815 1.38036979\n",
      " 1.40279106 1.42237578 1.443466   1.44959842 1.46979468 1.4813789\n",
      " 1.49994358 1.51892074 1.55572615 1.58745668 1.55499876 1.61634615\n",
      " 1.63984241 1.62982443] \n",
      "\n"
     ]
    }
   ],
   "source": [
    "rentAcumulada = (relprofts + 1).cumprod()\n",
    "print(rentAcumulada,\"\\n\")"
   ]
  },
  {
   "cell_type": "code",
   "execution_count": 46,
   "id": "0ad8a7cd",
   "metadata": {},
   "outputs": [
    {
     "name": "stdout",
     "output_type": "stream",
     "text": [
      "62.98 % de lucro acumulado utilizando como indicadores o SMA e o RSI no periodo analisado\n"
     ]
    }
   ],
   "source": [
    "print(round((rentAcumulada[-1]-1)*100,2),\"% de lucro acumulado utilizando como indicadores o SMA e o RSI no periodo analisado\")"
   ]
  },
  {
   "cell_type": "code",
   "execution_count": 57,
   "id": "baab50bf",
   "metadata": {},
   "outputs": [
    {
     "name": "stdout",
     "output_type": "stream",
     "text": [
      "BaseLine: 686.0 %\n"
     ]
    }
   ],
   "source": [
    "baseLine = round((df['Open'][-1]/df['Open'][0])*100,1)\n",
    "print(\"BaseLine:\", baseLine,\"%\")"
   ]
  }
 ],
 "metadata": {
  "kernelspec": {
   "display_name": "Python 3",
   "language": "python",
   "name": "python3"
  },
  "language_info": {
   "codemirror_mode": {
    "name": "ipython",
    "version": 3
   },
   "file_extension": ".py",
   "mimetype": "text/x-python",
   "name": "python",
   "nbconvert_exporter": "python",
   "pygments_lexer": "ipython3",
   "version": "3.8.8"
  }
 },
 "nbformat": 4,
 "nbformat_minor": 5
}
